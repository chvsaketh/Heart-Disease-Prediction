{
 "cells": [
  {
   "cell_type": "markdown",
   "metadata": {},
   "source": [
    "# Part 2"
   ]
  },
  {
   "cell_type": "markdown",
   "metadata": {},
   "source": [
    "## The following jupyter notebook contains code pertaining to Part 2 of Case Study 2"
   ]
  },
  {
   "cell_type": "code",
   "execution_count": 1,
   "metadata": {},
   "outputs": [],
   "source": [
    "import pandas as pd\n",
    "import numpy as np\n",
    "from sklearn.cluster import KMeans\n",
    "import seaborn as sns\n",
    "import matplotlib.pyplot as plt\n",
    "%matplotlib inline"
   ]
  },
  {
   "cell_type": "markdown",
   "metadata": {},
   "source": [
    "## The data from the computer is read into the pandas dataframe df"
   ]
  },
  {
   "cell_type": "code",
   "execution_count": 2,
   "metadata": {},
   "outputs": [],
   "source": [
    "df = pd.read_csv('C:/Users/Venkata Saketh Ch/Desktop/Healthcare/Case Study 2/Heart.csv')"
   ]
  },
  {
   "cell_type": "markdown",
   "metadata": {},
   "source": [
    "# Data Pre-processing"
   ]
  },
  {
   "cell_type": "code",
   "execution_count": 3,
   "metadata": {},
   "outputs": [],
   "source": [
    "# Replacing the missing values with NaN and dropping the corresponding rows containing the missing values\n",
    "df.replace('?', np.nan, inplace=True)\n",
    "df.dropna(axis=0, inplace=True)\n",
    "df.reset_index(drop = True, inplace = True)"
   ]
  },
  {
   "cell_type": "code",
   "execution_count": 4,
   "metadata": {},
   "outputs": [],
   "source": [
    "# Converting the datatypes of various columns to the required types\n",
    "df['Ca'] = pd.to_numeric(df['Ca'], errors='coerce')\n",
    "df['Thal'] = pd.to_numeric(df['Thal'], errors='coerce')\n",
    "df[['Age', 'Sex', 'Fbs', 'Exang', 'Ca']] = df[['Age', 'Sex', 'Fbs', 'Exang', 'Ca']].astype(int)\n",
    "df[['Trestbps', 'Chol', 'Thalach', 'Oldpeak']] = df[['Trestbps', 'Chol', 'Thalach', 'Oldpeak']].astype(float)"
   ]
  },
  {
   "cell_type": "code",
   "execution_count": 5,
   "metadata": {},
   "outputs": [],
   "source": [
    "# Converting the response variable Num to have only two categories 0 and 1-4\n",
    "df['Num'].replace(to_replace=[1, 2, 3, 4], value=1, inplace=True)"
   ]
  },
  {
   "cell_type": "code",
   "execution_count": 74,
   "metadata": {},
   "outputs": [
    {
     "data": {
      "text/plain": [
       "(297, 15)"
      ]
     },
     "execution_count": 74,
     "metadata": {},
     "output_type": "execute_result"
    }
   ],
   "source": [
    "df.shape"
   ]
  },
  {
   "cell_type": "markdown",
   "metadata": {},
   "source": [
    "## Data Attributes"
   ]
  },
  {
   "cell_type": "markdown",
   "metadata": {},
   "source": [
    "### The given dataset has the following attributes:\n",
    "* Age: in years   \n",
    "* Sex: 0=female; 1=male    \n",
    "* Cp: chest pain type (1=typical, 2=atypical, 3=non-anginal pain, 4=asymptomatic)   \n",
    "* Trestbps: resting blood pressure (mm Hg)\n",
    "* Chol: serum cholestoral (mg/dl)      \n",
    "* Fbs: fasting blood sugar>120 mg/dl (0=false, 1=true)       \n",
    "* Restecg: Resting ECG results (0 = normal, 1=ST-T wave abnormality, 2=probable or definite left ventricle hypertrophy)  \n",
    "* Thalach: Maximum heart rate acheived   \n",
    "* Exang: Exercise induced angina (0=no, 1=yes)    \n",
    "* Oldpeak = ST depression induced by exercise relative to rest   \n",
    "* Slope: the slope of the peak exercise ST segment (1=upsloping, 2=flat, 3=downsloping)      \n",
    "* Ca: number of major vessels (0-3) colored by fluoroscopy        \n",
    "* Thal: 3 = normal; 6 = fixed defect; 7 = reversible defect     \n",
    "* Num (the predicted attribute): diagnosis of heart disease (angiographic disease status) 0: < 50% diameter narrowing; 1-4: > 50% diameter narrowing\n"
   ]
  },
  {
   "cell_type": "markdown",
   "metadata": {},
   "source": [
    "###  We see that 'Age',  'Trestbps', 'Chol', 'Thalach', 'Oldpeak', 'Ca' are the only continuous attributes in the dataset and we use these for clustering."
   ]
  },
  {
   "cell_type": "markdown",
   "metadata": {},
   "source": [
    "### We create the dataframe X which contains the attributes we want to use for clustering."
   ]
  },
  {
   "cell_type": "code",
   "execution_count": 6,
   "metadata": {},
   "outputs": [],
   "source": [
    "X = df[['Age','Trestbps', 'Chol', 'Thalach', 'Oldpeak', 'Ca']]"
   ]
  },
  {
   "cell_type": "markdown",
   "metadata": {},
   "source": [
    "## Normalizing the continuous variables"
   ]
  },
  {
   "cell_type": "code",
   "execution_count": 9,
   "metadata": {},
   "outputs": [],
   "source": [
    "# Creating the normalize function\n",
    "def normalize(df, toNormalize): \n",
    "    result = df.copy()\n",
    "    for item in df.columns:\n",
    "        if (item in toNormalize):\n",
    "            max_value = df[item].max()\n",
    "            min_value = df[item].min()\n",
    "            result[item] = (df[item] - min_value) / (max_value - min_value)\n",
    "    return result"
   ]
  },
  {
   "cell_type": "code",
   "execution_count": 10,
   "metadata": {},
   "outputs": [],
   "source": [
    "toNormalize = ['Age', 'Trestbps', 'Chol', 'Thalach', 'Oldpeak', 'Ca'] \n",
    "X_norm = normalize(X, toNormalize)\n",
    "X_norm = X_norm.dropna()"
   ]
  },
  {
   "cell_type": "markdown",
   "metadata": {},
   "source": [
    "# K-Means Clustering"
   ]
  },
  {
   "cell_type": "markdown",
   "metadata": {},
   "source": [
    "### Performing K-Means clustering with number of clusters K = 2"
   ]
  },
  {
   "cell_type": "code",
   "execution_count": 23,
   "metadata": {},
   "outputs": [],
   "source": [
    "# Performing K-Means Clustering using number of clusters K=2\n",
    "from sklearn.cluster import KMeans\n",
    "\n",
    "km_2 = KMeans(n_clusters=2, init='random', n_init=100, max_iter=100)\n",
    "y_km = km_2.fit_predict(X_norm)"
   ]
  },
  {
   "cell_type": "markdown",
   "metadata": {},
   "source": [
    "### Printing the centroid of the 2 clusters formed"
   ]
  },
  {
   "cell_type": "code",
   "execution_count": 24,
   "metadata": {},
   "outputs": [
    {
     "name": "stdout",
     "output_type": "stream",
     "text": [
      "[[0.64669244 0.37337094 0.29621522 0.50098371 0.26887263 0.60137457]\n",
      " [0.4765625  0.34698113 0.26776256 0.64801527 0.12241935 0.04333333]]\n"
     ]
    }
   ],
   "source": [
    "print(km_2.cluster_centers_)  "
   ]
  },
  {
   "cell_type": "markdown",
   "metadata": {},
   "source": [
    "### Cluster Results"
   ]
  },
  {
   "cell_type": "code",
   "execution_count": 25,
   "metadata": {},
   "outputs": [],
   "source": [
    "labels = km_2.predict(X_norm)\n",
    "clusters = {}\n",
    "n = 0\n",
    "pat_obs = list(range(1,298))\n",
    "for item in labels:\n",
    "        if item in clusters:\n",
    "            clusters[item].append(pat_obs[n])\n",
    "        else:\n",
    "            clusters[item] = [pat_obs[n]]\n",
    "        n +=1"
   ]
  },
  {
   "cell_type": "code",
   "execution_count": 26,
   "metadata": {},
   "outputs": [
    {
     "name": "stdout",
     "output_type": "stream",
     "text": [
      "\n",
      "\n",
      "Cluster  1\n",
      "1 4 5 6 8 10 11 12 13 14 15 16 17 18 19 20 21 22 23 26 27 28 29 30 33 34 35 36 37 40 42 44 45 47 48 50 51 52 53 54 57 58 59 61 62 64 67 68 69 70 71 75 76 79 80 81 82 83 84 85 86 87 88 89 90 93 94 95 98 99 100 101 102 105 106 107 109 110 112 113 115 116 117 122 123 125 128 129 130 131 132 133 134 135 136 138 139 140 141 142 143 144 145 147 148 149 150 151 152 156 160 162 163 165 166 167 168 170 171 172 177 179 182 183 185 187 189 192 195 196 197 198 199 200 201 202 205 206 207 208 209 210 212 213 214 215 217 218 219 220 223 224 225 228 229 232 234 235 236 237 238 239 240 242 243 244 245 247 248 251 252 253 255 256 257 258 260 261 263 265 266 268 270 272 274 275 276 278 280 281 284 285 286 287 288 290 291 293 294 297 \n",
      "\n",
      "Cluster  0\n",
      "2 3 7 9 24 25 31 32 38 39 41 43 46 49 55 56 60 63 65 66 72 73 74 77 78 91 92 96 97 103 104 108 111 114 118 119 120 121 124 126 127 137 146 153 154 155 157 158 159 161 164 169 173 174 175 176 178 180 181 184 186 188 190 191 193 194 203 204 211 216 221 222 226 227 230 231 233 241 246 249 250 254 259 262 264 267 269 271 273 277 279 282 283 289 292 295 296 "
     ]
    }
   ],
   "source": [
    "for item in clusters:\n",
    "    print(\"\\n\")\n",
    "    print (\"Cluster \", item )\n",
    "    for i in clusters[item]:\n",
    "        print (i, end = \" \")"
   ]
  },
  {
   "cell_type": "markdown",
   "metadata": {},
   "source": [
    "### Thus on performing the K-Means clustering with number of clusters k = 2 we have patients with labels 1, 4, 5, 6, 8 .... etc. belonging to Cluster 1 and patients with labels 2, 3, 7, 9, 24 .... etc. belonging to Cluster 0."
   ]
  },
  {
   "cell_type": "markdown",
   "metadata": {},
   "source": [
    "## Elbow method to determine the optimal number of clusters"
   ]
  },
  {
   "cell_type": "markdown",
   "metadata": {},
   "source": [
    "### We calculate the sum of squared errors at different values of K and we plot the graph of Sum of squared errors (vs) Number of Clusters (k) to determine the optimal value of K. "
   ]
  },
  {
   "cell_type": "code",
   "execution_count": 56,
   "metadata": {},
   "outputs": [],
   "source": [
    "Sum_of_squared_distances = []\n",
    "K = range(1,10)\n",
    "for k in K:\n",
    "    km = KMeans(n_clusters=k)\n",
    "    y_km = km.fit_predict(X_norm)\n",
    "    Sum_of_squared_distances.append(km.inertia_)"
   ]
  },
  {
   "cell_type": "code",
   "execution_count": 57,
   "metadata": {},
   "outputs": [
    {
     "data": {
      "image/png": "[encoded data removed]",
      "text/plain": [
       "<Figure size 432x288 with 1 Axes>"
      ]
     },
     "metadata": {},
     "output_type": "display_data"
    }
   ],
   "source": [
    "plt.plot(K, Sum_of_squared_distances, 'bx-')\n",
    "plt.xlabel('Number of Clusters (k)')\n",
    "plt.ylabel('Sum of squared errors')\n",
    "plt.title('Elbow Method For Optimal k')\n",
    "plt.show()"
   ]
  },
  {
   "cell_type": "markdown",
   "metadata": {},
   "source": [
    "### We see that for Number of Clusters k=5 we are at a optimum (i.e. the hinge of the elbow can be seen). On increasing the number of clusters beyond 5 the corresponding decrease in the sum of squared errors isn't sufficient enough to justify the computational cost.\n",
    "\n",
    "### Therefore by elbow method we get the optimum number of clusters as k = 5"
   ]
  },
  {
   "cell_type": "markdown",
   "metadata": {},
   "source": [
    "## K-Means Clustering with k = 5"
   ]
  },
  {
   "cell_type": "code",
   "execution_count": 64,
   "metadata": {},
   "outputs": [],
   "source": [
    "# Performing K-Means Clustering using number of clusters K=5\n",
    "from sklearn.cluster import KMeans\n",
    "\n",
    "km_5 = KMeans(n_clusters=5, init='random', n_init=100, max_iter=100)\n",
    "y_km = km_5.fit_predict(X_norm)"
   ]
  },
  {
   "cell_type": "markdown",
   "metadata": {},
   "source": [
    "### Printing the centroid of the 5 clusters formed."
   ]
  },
  {
   "cell_type": "code",
   "execution_count": 65,
   "metadata": {},
   "outputs": [
    {
     "name": "stdout",
     "output_type": "stream",
     "text": [
      "[[0.62392241 0.46112557 0.32128799 0.63990524 0.0945495  0.00574713]\n",
      " [0.60081845 0.31704852 0.29533594 0.62609051 0.0875576  0.42261905]\n",
      " [0.65213178 0.43549803 0.30577679 0.49210012 0.3495874  0.82170543]\n",
      " [0.62862319 0.3802297  0.24965257 0.3914703  0.35904628 0.15217391]\n",
      " [0.33244681 0.26485347 0.23914311 0.711223   0.09179822 0.0070922 ]]\n"
     ]
    }
   ],
   "source": [
    "print(km_5.cluster_centers_)  "
   ]
  },
  {
   "cell_type": "markdown",
   "metadata": {},
   "source": [
    "### Cluster Results"
   ]
  },
  {
   "cell_type": "code",
   "execution_count": 66,
   "metadata": {},
   "outputs": [],
   "source": [
    "labels = km_5.predict(X_norm)\n",
    "clusters = {}\n",
    "n = 0\n",
    "pat_obs = list(range(1,298))\n",
    "for item in labels:\n",
    "        if item in clusters:\n",
    "            clusters[item].append(pat_obs[n])\n",
    "        else:\n",
    "            clusters[item] = [pat_obs[n]]\n",
    "        n +=1"
   ]
  },
  {
   "cell_type": "code",
   "execution_count": 67,
   "metadata": {},
   "outputs": [
    {
     "name": "stdout",
     "output_type": "stream",
     "text": [
      "\n",
      "\n",
      "Cluster  3\n",
      "1 10 21 28 37 38 48 56 60 65 67 69 70 77 80 108 113 114 119 123 127 136 137 143 154 163 169 174 176 182 192 229 234 242 243 248 249 255 262 264 267 268 270 277 279 296 \n",
      "\n",
      "Cluster  2\n",
      "2 3 7 24 25 31 41 43 63 66 73 91 92 97 104 118 121 126 146 155 161 173 175 178 180 186 188 190 191 203 204 211 216 221 230 233 241 269 282 283 289 292 295 \n",
      "\n",
      "Cluster  4\n",
      "4 5 6 14 17 19 20 26 29 30 35 36 42 47 50 51 54 58 62 75 79 81 83 85 86 87 89 93 99 100 101 105 109 112 115 117 122 125 128 130 132 133 134 138 139 142 144 145 147 148 151 160 162 167 168 179 185 189 195 196 198 202 208 209 210 213 214 215 218 219 220 223 224 228 235 236 237 238 239 240 251 252 253 261 263 265 266 274 278 280 285 288 291 294 \n",
      "\n",
      "Cluster  0\n",
      "8 11 12 15 16 18 22 23 27 33 34 40 44 45 52 61 64 68 71 76 82 84 88 90 94 110 116 129 135 140 141 150 152 156 165 170 171 172 183 187 197 199 201 205 206 207 217 247 256 257 260 272 276 284 286 287 290 293 \n",
      "\n",
      "Cluster  1\n",
      "9 13 32 39 46 49 53 55 57 59 72 74 78 95 96 98 102 103 106 107 111 120 124 131 149 153 157 158 159 164 166 177 181 184 193 194 200 212 222 225 226 227 231 232 244 245 246 250 254 258 259 271 273 275 281 297 "
     ]
    }
   ],
   "source": [
    "for item in clusters:\n",
    "    print(\"\\n\")\n",
    "    print (\"Cluster \", item )\n",
    "    for i in clusters[item]:\n",
    "        print (i, end = \" \")"
   ]
  },
  {
   "cell_type": "markdown",
   "metadata": {},
   "source": [
    "### Thus on performing the K-Means clustering with number of clusters k = 5 we have patients with labels 1, 10, 21.... etc. belonging to Cluster 3 and patients with labels 2, 3, 7, 24 .... etc. belonging to Cluster 2 and so on as displayed in the result."
   ]
  },
  {
   "cell_type": "markdown",
   "metadata": {},
   "source": [
    "## Prevelance of Num = 0 in K-Means Clustering with k = 5"
   ]
  },
  {
   "cell_type": "markdown",
   "metadata": {},
   "source": [
    "### In the data pre-processing stage we converted the Num Variable to have only two responses 0 and 1. We achieved this by converting the previous observation values of 1-4 in the Num variable to a value of 1 in the Num variable."
   ]
  },
  {
   "cell_type": "code",
   "execution_count": 71,
   "metadata": {},
   "outputs": [],
   "source": [
    "cluster_map = pd.DataFrame()\n",
    "cluster_map['data_index'] = X_norm.index.values\n",
    "cluster_map['cluster'] = km_5.labels_"
   ]
  },
  {
   "cell_type": "code",
   "execution_count": 72,
   "metadata": {},
   "outputs": [],
   "source": [
    "df_cluster_contents = pd.DataFrame(columns=['Num zero','Num one'])\n",
    "for j in range(0,5):\n",
    "    df_temp = cluster_map[cluster_map.cluster == j]\n",
    "    count_zero = 0\n",
    "    count_one = 0\n",
    "    for i in df_temp.index.values:\n",
    "        x = df.loc[cluster_map.loc[i,'data_index'],'Num']\n",
    "        if x == 0 :\n",
    "            count_zero = count_zero + 1\n",
    "        else:\n",
    "            count_one = count_one + 1\n",
    "    df_data = pd.DataFrame(data=[(count_zero, count_one)], columns=['Num zero','Num one'])\n",
    "    df_cluster_contents = df_cluster_contents.append(df_data, ignore_index = True)"
   ]
  },
  {
   "cell_type": "markdown",
   "metadata": {},
   "source": [
    "### Printing the different types of responses of Num attribute in the clusters formed using K-Means Clustering of k=5"
   ]
  },
  {
   "cell_type": "code",
   "execution_count": 73,
   "metadata": {},
   "outputs": [
    {
     "name": "stdout",
     "output_type": "stream",
     "text": [
      "  Num zero Num one\n",
      "0       40      18\n",
      "1       23      33\n",
      "2        6      37\n",
      "3       12      34\n",
      "4       79      15\n"
     ]
    }
   ],
   "source": [
    "print (df_cluster_contents)"
   ]
  },
  {
   "cell_type": "markdown",
   "metadata": {},
   "source": [
    "### Hence in the K-Means Clustering done using k = 5, Num = 0 occurs:\n",
    "* 40 times in Cluster 0.\n",
    "* 23 times in Cluster 1.\n",
    "* 06 times in Cluster 2.\n",
    "* 12 times in Cluster 3.\n",
    "* 79 times in Cluster 4.\n"
   ]
  },
  {
   "cell_type": "code",
   "execution_count": null,
   "metadata": {},
   "outputs": [],
   "source": []
  }
 ],
 "metadata": {
  "kernelspec": {
   "display_name": "Python 3",
   "language": "python",
   "name": "python3"
  },
  "language_info": {
   "codemirror_mode": {
    "name": "ipython",
    "version": 3
   },
   "file_extension": ".py",
   "mimetype": "text/x-python",
   "name": "python",
   "nbconvert_exporter": "python",
   "pygments_lexer": "ipython3",
   "version": "3.6.5"
  }
 },
 "nbformat": 4,
 "nbformat_minor": 2
}
